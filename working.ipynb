{
 "cells": [
  {
   "cell_type": "code",
   "execution_count": 116,
   "metadata": {
    "scrolled": true
   },
   "outputs": [
    {
     "name": "stdout",
     "output_type": "stream",
     "text": [
      "---------------------------------------\n",
      "| Creating Docker swarm for Rafiki... |\n",
      "---------------------------------------\n",
      "Error response from daemon: This node is already part of a swarm. Use \"docker swarm leave\" to leave this swarm and join another one.\n",
      "Failed to init Docker swarm - continuing...\n",
      "Error response from daemon: network with name rafiki already exists\n",
      "Failed to create Docker network for swarm - continuing...\n",
      "------------------------------------\n",
      "| Creating Rafiki's logs folder... |\n",
      "------------------------------------\n",
      "Created Rafiki's logs directory!\n",
      "------------------------------------------------\n",
      "| Pulling images for Rafiki from Docker Hub... |\n",
      "------------------------------------------------\n",
      "Pulling images required by Rafiki from Docker Hub...\n",
      "postgres:10.5 already exists locally\n",
      "redis:5.0-rc already exists locally\n",
      "rafikiai/rafiki_admin:0.0.4 already exists locally\n",
      "rafikiai/rafiki_advisor:0.0.4 already exists locally\n",
      "rafikiai/rafiki_worker:0.0.4 already exists locally\n",
      "rafikiai/rafiki_predictor:0.0.4 already exists locally\n",
      "---------------------------\n",
      "| Starting Rafiki's DB... |\n",
      "---------------------------\n",
      "Waiting for 10s for Rafiki's DB to stablize...\n",
      "Rafiki's DB is running\n",
      "------------------------------\n",
      "| Starting Rafiki's Cache... |\n",
      "------------------------------\n",
      "Waiting for 10s for Rafiki's Cache to stablize...\n",
      "Rafiki's Cache is running\n",
      "------------------------------\n",
      "| Starting Rafiki's Admin... |\n",
      "------------------------------\n",
      "Waiting for 10s for Rafiki's Admin to stablize...\n",
      "Rafiki's Admin is running\n",
      "--------------------------------\n",
      "| Starting Rafiki's Advisor... |\n",
      "--------------------------------\n",
      "Waiting for 10s for Rafiki's Advisor to stablize...\n",
      "Rafiki's Advisor is running\n",
      "To use Rafiki, use Rafiki Client in the Python CLI\n",
      "Refer to Rafiki's docs at https://nginyc.github.io/rafiki2/docs/\n"
     ]
    }
   ],
   "source": [
    "#start rafiki\n",
    "!bash ./scripts/start.sh"
   ]
  },
  {
   "cell_type": "code",
   "execution_count": 115,
   "metadata": {
    "scrolled": true
   },
   "outputs": [
    {
     "name": "stdout",
     "output_type": "stream",
     "text": [
      "---------------------------\n",
      "| Stopping Rafiki's DB... |\n",
      "---------------------------\n",
      "rafiki_db\n",
      "------------------------------\n",
      "| Stopping Rafiki's Cache... |\n",
      "------------------------------\n",
      "rafiki_cache\n",
      "------------------------------\n",
      "| Stopping Rafiki's Admin... |\n",
      "------------------------------\n",
      "rafiki_admin\n",
      "--------------------------------\n",
      "| Stopping Rafiki's Advisor... |\n",
      "--------------------------------\n",
      "rafiki_advisor\n",
      "You'll need to destroy your machine's Docker swarm & Rafiki's logs folder at /home/wubiao/log/rafiki manually\n"
     ]
    }
   ],
   "source": [
    "#stop rafiki\n",
    "!bash ./scripts/stop.sh"
   ]
  },
  {
   "cell_type": "code",
   "execution_count": 70,
   "metadata": {
    "scrolled": true
   },
   "outputs": [
    {
     "name": "stdout",
     "output_type": "stream",
     "text": [
      "export POSTGRES_HOST=rafiki_db\r\n",
      "export POSTGRES_PORT=5432\r\n",
      "export POSTGRES_USER=rafiki\r\n",
      "export POSTGRES_DB=rafiki\r\n",
      "export POSTGRES_PASSWORD=rafiki\r\n",
      "export DOCKER_NETWORK=rafiki\r\n",
      "#export LOGS_FOLDER_PATH=/var/log/rafiki\r\n",
      "export LOGS_FOLDER_PATH=/home/wubiao/log/rafiki\r\n",
      "export ADMIN_HOST=rafiki_admin\r\n",
      "export ADMIN_PORT=8000\r\n",
      "export ADVISOR_HOST=rafiki_advisor\r\n",
      "export ADVISOR_PORT=8001\r\n",
      "export REDIS_HOST=rafiki_cache\r\n",
      "export REDIS_PORT=6379\r\n",
      "export PREDICTOR_PORT=8002\r\n",
      "export RAFIKI_IP_ADDRESS=127.0.0.1\r\n",
      "export RAFIKI_IMAGE_ADMIN=rafikiai/rafiki_admin\r\n",
      "export RAFIKI_IMAGE_ADVISOR=rafikiai/rafiki_advisor\r\n",
      "export RAFIKI_IMAGE_WORKER=rafikiai/rafiki_worker\r\n",
      "export RAFIKI_IMAGE_PREDICTOR=rafikiai/rafiki_predictor\r\n",
      "export IMAGE_POSTGRES=postgres:10.5\r\n",
      "export IMAGE_REDIS=redis:5.0-rc\r\n",
      "export RAFIKI_VERSION=0.0.4\r\n",
      "export PYTHONPATH=$PWD\r\n"
     ]
    }
   ],
   "source": [
    "!cat .env.sh"
   ]
  },
  {
   "cell_type": "code",
   "execution_count": 117,
   "metadata": {},
   "outputs": [
    {
     "data": {
      "text/plain": [
       "{'user_id': 'f86b4b2c-891a-4f9f-a221-a761c237f5eb', 'user_type': 'SUPERADMIN'}"
      ]
     },
     "execution_count": 117,
     "metadata": {},
     "output_type": "execute_result"
    }
   ],
   "source": [
    "#start client\n",
    "from rafiki.client import Client\n",
    "client = Client(admin_host='localhost', admin_port=8000)\n",
    "client.login(email='superadmin@rafiki', password='rafiki')"
   ]
  },
  {
   "cell_type": "code",
   "execution_count": null,
   "metadata": {},
   "outputs": [],
   "source": [
    "#add models for default IMAGE_CLASSIFICATION\n",
    "client.create_model(\n",
    "    name='TfSingleHiddenLayer',\n",
    "    task='IMAGE_CLASSIFICATION',\n",
    "    model_file_path='examples/models/image_classification/TfSingleHiddenLayer.py',\n",
    "    model_class='TfSingleHiddenLayer'\n",
    ")\n",
    "\n",
    "client.create_model(\n",
    "    name='SkDt',\n",
    "    task='IMAGE_CLASSIFICATION',\n",
    "    model_file_path='examples/models/image_classification/SkDt.py',\n",
    "    model_class='SkDt'\n",
    ")\n",
    "\n",
    "#check loaded models by task\n",
    "client.get_models_of_task(task='IMAGE_CLASSIFICATION')"
   ]
  },
  {
   "cell_type": "code",
   "execution_count": 118,
   "metadata": {},
   "outputs": [
    {
     "data": {
      "text/plain": [
       "[{'datetime_created': 'Sun, 28 Oct 2018 10:57:55 GMT',\n",
       "  'docker_image': 'rafikiai/rafiki_worker:0.0.4',\n",
       "  'model_class': 'SkDtVector',\n",
       "  'name': 'SkDtVector',\n",
       "  'task': 'FEATURE_VECTOR_CLASSIFICATION',\n",
       "  'user_id': 'f86b4b2c-891a-4f9f-a221-a761c237f5eb'}]"
      ]
     },
     "execution_count": 118,
     "metadata": {},
     "output_type": "execute_result"
    }
   ],
   "source": [
    "#add model for FEATURE_VECTOR_CLASSIFICATION\n",
    "client.create_model(\n",
    "    name='SkDtVector',\n",
    "    task='FEATURE_VECTOR_CLASSIFICATION',\n",
    "    model_file_path='examples/models/feature_vector_classification/SkDt.py',\n",
    "    model_class='SkDtVector'\n",
    ")\n",
    "\n",
    "#check loaded models by task\n",
    "client.get_models_of_task(task='FEATURE_VECTOR_CLASSIFICATION')"
   ]
  },
  {
   "cell_type": "markdown",
   "metadata": {},
   "source": [
    "uri = \"https://github.com/sdragon007/sea_dataset/blob/master/sea_train.zip?raw=true\""
   ]
  },
  {
   "cell_type": "code",
   "execution_count": 120,
   "metadata": {
    "scrolled": true
   },
   "outputs": [
    {
     "data": {
      "text/plain": [
       "{'app': 'concept_drift',\n",
       " 'app_version': 1,\n",
       " 'id': '9fb15870-27bd-46ba-bd66-6b84d2ae1276'}"
      ]
     },
     "execution_count": 120,
     "metadata": {},
     "output_type": "execute_result"
    }
   ],
   "source": [
    "#create a training job\n",
    "client.create_train_job(\n",
    "    app='concept_drift',\n",
    "    task='FEATURE_VECTOR_CLASSIFICATION',\n",
    "    train_dataset_uri='https://github.com/sdragon007/sea_dataset/blob/master/sea_train.zip?raw=true',\n",
    "    test_dataset_uri='https://github.com/sdragon007/sea_dataset/blob/master/sea_test.zip?raw=true',\n",
    "    budget_type='MODEL_TRIAL_COUNT',\n",
    "    budget_amount=2\n",
    ")"
   ]
  },
  {
   "cell_type": "code",
   "execution_count": 129,
   "metadata": {
    "scrolled": true
   },
   "outputs": [
    {
     "ename": "Exception",
     "evalue": "Traceback (most recent call last):\n  File \"/usr/local/lib/python3.6/site-packages/flask/app.py\", line 1813, in full_dispatch_request\n    rv = self.dispatch_request()\n  File \"/usr/local/lib/python3.6/site-packages/flask/app.py\", line 1799, in dispatch_request\n    return self.view_functions[rule.endpoint](**req.view_args)\n  File \"/root/rafiki/rafiki/utils/auth.py\", line 38, in wrapped\n    return f(auth, *args, **kwargs)\n  File \"/root/rafiki/rafiki/admin/app.py\", line 73, in get_train_job\n    return jsonify(admin.get_train_job(app, app_version=int(app_version), **params))\n  File \"/root/rafiki/rafiki/admin/admin.py\", line 116, in get_train_job\n    train_job = self._db.get_train_job_by_app_version(app, app_version=app_version)\n  File \"/root/rafiki/rafiki/db/database.py\", line 97, in get_train_job_by_app_version\n    return query.first()\n  File \"/usr/local/lib/python3.6/site-packages/sqlalchemy/orm/query.py\", line 2888, in first\n    ret = list(self[0:1])\n  File \"/usr/local/lib/python3.6/site-packages/sqlalchemy/orm/query.py\", line 2680, in __getitem__\n    return list(res)\n  File \"/usr/local/lib/python3.6/site-packages/sqlalchemy/orm/query.py\", line 2988, in __iter__\n    return self._execute_and_instances(context)\n  File \"/usr/local/lib/python3.6/site-packages/sqlalchemy/orm/query.py\", line 3009, in _execute_and_instances\n    close_with_result=True)\n  File \"/usr/local/lib/python3.6/site-packages/sqlalchemy/orm/query.py\", line 3018, in _get_bind_args\n    **kw\n  File \"/usr/local/lib/python3.6/site-packages/sqlalchemy/orm/query.py\", line 3000, in _connection_from_session\n    conn = self.session.connection(**kw)\n  File \"/usr/local/lib/python3.6/site-packages/sqlalchemy/orm/session.py\", line 1035, in connection\n    execution_options=execution_options)\n  File \"/usr/local/lib/python3.6/site-packages/sqlalchemy/orm/session.py\", line 1040, in _connection_for_bind\n    engine, execution_options)\n  File \"/usr/local/lib/python3.6/site-packages/sqlalchemy/orm/session.py\", line 409, in _connection_for_bind\n    conn = bind.contextual_connect()\n  File \"/usr/local/lib/python3.6/site-packages/sqlalchemy/engine/base.py\", line 2123, in contextual_connect\n    self._wrap_pool_connect(self.pool.connect, None),\n  File \"/usr/local/lib/python3.6/site-packages/sqlalchemy/engine/base.py\", line 2158, in _wrap_pool_connect\n    return fn()\n  File \"/usr/local/lib/python3.6/site-packages/sqlalchemy/pool.py\", line 403, in connect\n    return _ConnectionFairy._checkout(self)\n  File \"/usr/local/lib/python3.6/site-packages/sqlalchemy/pool.py\", line 791, in _checkout\n    fairy = _ConnectionRecord.checkout(pool)\n  File \"/usr/local/lib/python3.6/site-packages/sqlalchemy/pool.py\", line 532, in checkout\n    rec = pool._do_get()\n  File \"/usr/local/lib/python3.6/site-packages/sqlalchemy/pool.py\", line 1189, in _do_get\n    (self.size(), self.overflow(), self._timeout), code=\"3o7r\")\nsqlalchemy.exc.TimeoutError: QueuePool limit of size 5 overflow 10 reached, connection timed out, timeout 30 (Background on this error at: http://sqlalche.me/e/3o7r)\n",
     "output_type": "error",
     "traceback": [
      "\u001b[0;31m---------------------------------------------------------------------------\u001b[0m",
      "\u001b[0;31mException\u001b[0m                                 Traceback (most recent call last)",
      "\u001b[0;32m<ipython-input-129-d45744597fba>\u001b[0m in \u001b[0;36m<module>\u001b[0;34m()\u001b[0m\n\u001b[1;32m      1\u001b[0m \u001b[0;31m#get train job status\u001b[0m\u001b[0;34m\u001b[0m\u001b[0;34m\u001b[0m\u001b[0m\n\u001b[0;32m----> 2\u001b[0;31m \u001b[0mclient\u001b[0m\u001b[0;34m.\u001b[0m\u001b[0mget_train_job\u001b[0m\u001b[0;34m(\u001b[0m\u001b[0mapp\u001b[0m\u001b[0;34m=\u001b[0m\u001b[0;34m'concept_drift'\u001b[0m\u001b[0;34m)\u001b[0m\u001b[0;34m\u001b[0m\u001b[0m\n\u001b[0m",
      "\u001b[0;32m~/cs6203/rafiki/rafiki/client/client.py\u001b[0m in \u001b[0;36mget_train_job\u001b[0;34m(self, app, app_version)\u001b[0m\n\u001b[1;32m    179\u001b[0m         \u001b[0;34m:\u001b[0m\u001b[0mparam\u001b[0m \u001b[0mint\u001b[0m \u001b[0mapp_version\u001b[0m\u001b[0;34m:\u001b[0m \u001b[0mVersion\u001b[0m \u001b[0mof\u001b[0m \u001b[0mthe\u001b[0m \u001b[0mapp\u001b[0m \u001b[0;34m(\u001b[0m\u001b[0;34m-\u001b[0m\u001b[0;36m1\u001b[0m \u001b[0;32mfor\u001b[0m \u001b[0mlatest\u001b[0m \u001b[0mversion\u001b[0m\u001b[0;34m)\u001b[0m\u001b[0;34m\u001b[0m\u001b[0m\n\u001b[1;32m    180\u001b[0m         '''\n\u001b[0;32m--> 181\u001b[0;31m         \u001b[0mdata\u001b[0m \u001b[0;34m=\u001b[0m \u001b[0mself\u001b[0m\u001b[0;34m.\u001b[0m\u001b[0m_get\u001b[0m\u001b[0;34m(\u001b[0m\u001b[0;34m'/train_jobs/{}/{}'\u001b[0m\u001b[0;34m.\u001b[0m\u001b[0mformat\u001b[0m\u001b[0;34m(\u001b[0m\u001b[0mapp\u001b[0m\u001b[0;34m,\u001b[0m \u001b[0mapp_version\u001b[0m\u001b[0;34m)\u001b[0m\u001b[0;34m)\u001b[0m\u001b[0;34m\u001b[0m\u001b[0m\n\u001b[0m\u001b[1;32m    182\u001b[0m         \u001b[0;32mreturn\u001b[0m \u001b[0mdata\u001b[0m\u001b[0;34m\u001b[0m\u001b[0m\n\u001b[1;32m    183\u001b[0m \u001b[0;34m\u001b[0m\u001b[0m\n",
      "\u001b[0;32m~/cs6203/rafiki/rafiki/client/client.py\u001b[0m in \u001b[0;36m_get\u001b[0;34m(self, path, params, target)\u001b[0m\n\u001b[1;32m    348\u001b[0m             \u001b[0mparams\u001b[0m\u001b[0;34m=\u001b[0m\u001b[0mparams\u001b[0m\u001b[0;34m\u001b[0m\u001b[0m\n\u001b[1;32m    349\u001b[0m         )\n\u001b[0;32m--> 350\u001b[0;31m         \u001b[0;32mreturn\u001b[0m \u001b[0mself\u001b[0m\u001b[0;34m.\u001b[0m\u001b[0m_parse_response\u001b[0m\u001b[0;34m(\u001b[0m\u001b[0mres\u001b[0m\u001b[0;34m)\u001b[0m\u001b[0;34m\u001b[0m\u001b[0m\n\u001b[0m\u001b[1;32m    351\u001b[0m \u001b[0;34m\u001b[0m\u001b[0m\n\u001b[1;32m    352\u001b[0m     \u001b[0;32mdef\u001b[0m \u001b[0m_post\u001b[0m\u001b[0;34m(\u001b[0m\u001b[0mself\u001b[0m\u001b[0;34m,\u001b[0m \u001b[0mpath\u001b[0m\u001b[0;34m,\u001b[0m \u001b[0mparams\u001b[0m\u001b[0;34m=\u001b[0m\u001b[0;34m{\u001b[0m\u001b[0;34m}\u001b[0m\u001b[0;34m,\u001b[0m \u001b[0mfiles\u001b[0m\u001b[0;34m=\u001b[0m\u001b[0;34m{\u001b[0m\u001b[0;34m}\u001b[0m\u001b[0;34m,\u001b[0m \u001b[0mform_data\u001b[0m\u001b[0;34m=\u001b[0m\u001b[0;32mNone\u001b[0m\u001b[0;34m,\u001b[0m \u001b[0mjson\u001b[0m\u001b[0;34m=\u001b[0m\u001b[0;32mNone\u001b[0m\u001b[0;34m,\u001b[0m \u001b[0mtarget\u001b[0m\u001b[0;34m=\u001b[0m\u001b[0;34m'admin'\u001b[0m\u001b[0;34m)\u001b[0m\u001b[0;34m:\u001b[0m\u001b[0;34m\u001b[0m\u001b[0m\n",
      "\u001b[0;32m~/cs6203/rafiki/rafiki/client/client.py\u001b[0m in \u001b[0;36m_parse_response\u001b[0;34m(self, res)\u001b[0m\n\u001b[1;32m    388\u001b[0m     \u001b[0;32mdef\u001b[0m \u001b[0m_parse_response\u001b[0m\u001b[0;34m(\u001b[0m\u001b[0mself\u001b[0m\u001b[0;34m,\u001b[0m \u001b[0mres\u001b[0m\u001b[0;34m)\u001b[0m\u001b[0;34m:\u001b[0m\u001b[0;34m\u001b[0m\u001b[0m\n\u001b[1;32m    389\u001b[0m         \u001b[0;32mif\u001b[0m \u001b[0mres\u001b[0m\u001b[0;34m.\u001b[0m\u001b[0mstatus_code\u001b[0m \u001b[0;34m!=\u001b[0m \u001b[0;36m200\u001b[0m\u001b[0;34m:\u001b[0m\u001b[0;34m\u001b[0m\u001b[0m\n\u001b[0;32m--> 390\u001b[0;31m             \u001b[0;32mraise\u001b[0m \u001b[0mException\u001b[0m\u001b[0;34m(\u001b[0m\u001b[0mres\u001b[0m\u001b[0;34m.\u001b[0m\u001b[0mtext\u001b[0m\u001b[0;34m)\u001b[0m\u001b[0;34m\u001b[0m\u001b[0m\n\u001b[0m\u001b[1;32m    391\u001b[0m \u001b[0;34m\u001b[0m\u001b[0m\n\u001b[1;32m    392\u001b[0m         \u001b[0mdata\u001b[0m \u001b[0;34m=\u001b[0m \u001b[0mres\u001b[0m\u001b[0;34m.\u001b[0m\u001b[0mjson\u001b[0m\u001b[0;34m(\u001b[0m\u001b[0;34m)\u001b[0m\u001b[0;34m\u001b[0m\u001b[0m\n",
      "\u001b[0;31mException\u001b[0m: Traceback (most recent call last):\n  File \"/usr/local/lib/python3.6/site-packages/flask/app.py\", line 1813, in full_dispatch_request\n    rv = self.dispatch_request()\n  File \"/usr/local/lib/python3.6/site-packages/flask/app.py\", line 1799, in dispatch_request\n    return self.view_functions[rule.endpoint](**req.view_args)\n  File \"/root/rafiki/rafiki/utils/auth.py\", line 38, in wrapped\n    return f(auth, *args, **kwargs)\n  File \"/root/rafiki/rafiki/admin/app.py\", line 73, in get_train_job\n    return jsonify(admin.get_train_job(app, app_version=int(app_version), **params))\n  File \"/root/rafiki/rafiki/admin/admin.py\", line 116, in get_train_job\n    train_job = self._db.get_train_job_by_app_version(app, app_version=app_version)\n  File \"/root/rafiki/rafiki/db/database.py\", line 97, in get_train_job_by_app_version\n    return query.first()\n  File \"/usr/local/lib/python3.6/site-packages/sqlalchemy/orm/query.py\", line 2888, in first\n    ret = list(self[0:1])\n  File \"/usr/local/lib/python3.6/site-packages/sqlalchemy/orm/query.py\", line 2680, in __getitem__\n    return list(res)\n  File \"/usr/local/lib/python3.6/site-packages/sqlalchemy/orm/query.py\", line 2988, in __iter__\n    return self._execute_and_instances(context)\n  File \"/usr/local/lib/python3.6/site-packages/sqlalchemy/orm/query.py\", line 3009, in _execute_and_instances\n    close_with_result=True)\n  File \"/usr/local/lib/python3.6/site-packages/sqlalchemy/orm/query.py\", line 3018, in _get_bind_args\n    **kw\n  File \"/usr/local/lib/python3.6/site-packages/sqlalchemy/orm/query.py\", line 3000, in _connection_from_session\n    conn = self.session.connection(**kw)\n  File \"/usr/local/lib/python3.6/site-packages/sqlalchemy/orm/session.py\", line 1035, in connection\n    execution_options=execution_options)\n  File \"/usr/local/lib/python3.6/site-packages/sqlalchemy/orm/session.py\", line 1040, in _connection_for_bind\n    engine, execution_options)\n  File \"/usr/local/lib/python3.6/site-packages/sqlalchemy/orm/session.py\", line 409, in _connection_for_bind\n    conn = bind.contextual_connect()\n  File \"/usr/local/lib/python3.6/site-packages/sqlalchemy/engine/base.py\", line 2123, in contextual_connect\n    self._wrap_pool_connect(self.pool.connect, None),\n  File \"/usr/local/lib/python3.6/site-packages/sqlalchemy/engine/base.py\", line 2158, in _wrap_pool_connect\n    return fn()\n  File \"/usr/local/lib/python3.6/site-packages/sqlalchemy/pool.py\", line 403, in connect\n    return _ConnectionFairy._checkout(self)\n  File \"/usr/local/lib/python3.6/site-packages/sqlalchemy/pool.py\", line 791, in _checkout\n    fairy = _ConnectionRecord.checkout(pool)\n  File \"/usr/local/lib/python3.6/site-packages/sqlalchemy/pool.py\", line 532, in checkout\n    rec = pool._do_get()\n  File \"/usr/local/lib/python3.6/site-packages/sqlalchemy/pool.py\", line 1189, in _do_get\n    (self.size(), self.overflow(), self._timeout), code=\"3o7r\")\nsqlalchemy.exc.TimeoutError: QueuePool limit of size 5 overflow 10 reached, connection timed out, timeout 30 (Background on this error at: http://sqlalche.me/e/3o7r)\n"
     ]
    }
   ],
   "source": [
    "#get train job status\n",
    "client.get_train_job(app='concept_drift')"
   ]
  },
  {
   "cell_type": "code",
   "execution_count": null,
   "metadata": {},
   "outputs": [],
   "source": [
    "#get job metrics\n",
    "client.get_best_trials_of_train_job(app='concept_drift')"
   ]
  },
  {
   "cell_type": "code",
   "execution_count": null,
   "metadata": {},
   "outputs": [],
   "source": [
    "#startinference job\n",
    "client.create_inference_job(app='concept_drift')"
   ]
  },
  {
   "cell_type": "code",
   "execution_count": null,
   "metadata": {},
   "outputs": [],
   "source": [
    "#stop inference job\n",
    "client.stop_inference_job(app='concept_drift')"
   ]
  },
  {
   "cell_type": "code",
   "execution_count": null,
   "metadata": {},
   "outputs": [],
   "source": []
  },
  {
   "cell_type": "code",
   "execution_count": 126,
   "metadata": {
    "scrolled": true
   },
   "outputs": [
    {
     "ename": "AttributeError",
     "evalue": "type object 'TaskType' has no attribute 'FEATURE_VECTOR_CLASSIFICATION'",
     "output_type": "error",
     "traceback": [
      "\u001b[0;31m---------------------------------------------------------------------------\u001b[0m",
      "\u001b[0;31mAttributeError\u001b[0m                            Traceback (most recent call last)",
      "\u001b[0;32m<ipython-input-126-0848d97494a8>\u001b[0m in \u001b[0;36m<module>\u001b[0;34m()\u001b[0m\n\u001b[1;32m      2\u001b[0m \u001b[0;32mfrom\u001b[0m \u001b[0mrafiki\u001b[0m\u001b[0;34m.\u001b[0m\u001b[0mconstants\u001b[0m \u001b[0;32mimport\u001b[0m \u001b[0mTaskType\u001b[0m\u001b[0;34m\u001b[0m\u001b[0m\n\u001b[1;32m      3\u001b[0m \u001b[0mtrain_dataset_uri\u001b[0m\u001b[0;34m=\u001b[0m\u001b[0;34m'https://github.com/sdragon007/sea_dataset/blob/master/sea_train.zip?raw=true'\u001b[0m\u001b[0;34m\u001b[0m\u001b[0m\n\u001b[0;32m----> 4\u001b[0;31m \u001b[0mtrain\u001b[0m\u001b[0;34m,\u001b[0m \u001b[0mtest\u001b[0m \u001b[0;34m=\u001b[0m \u001b[0mload_dataset\u001b[0m\u001b[0;34m(\u001b[0m\u001b[0mtrain_dataset_uri\u001b[0m\u001b[0;34m,\u001b[0m \u001b[0mTaskType\u001b[0m\u001b[0;34m.\u001b[0m\u001b[0mFEATURE_VECTOR_CLASSIFICATION\u001b[0m\u001b[0;34m)\u001b[0m\u001b[0;34m\u001b[0m\u001b[0m\n\u001b[0m",
      "\u001b[0;31mAttributeError\u001b[0m: type object 'TaskType' has no attribute 'FEATURE_VECTOR_CLASSIFICATION'"
     ]
    }
   ],
   "source": [
    "from rafiki.model import load_dataset\n",
    "from rafiki.constants import TaskType\n",
    "train_dataset_uri='https://github.com/sdragon007/sea_dataset/blob/master/sea_train.zip?raw=true'\n",
    "train, test = load_dataset(train_dataset_uri, TaskType.FEATURE_VECTOR_CLASSIFICATION)"
   ]
  },
  {
   "cell_type": "code",
   "execution_count": 128,
   "metadata": {},
   "outputs": [
    {
     "data": {
      "text/plain": [
       "'IMAGE_CLASSIFICATION'"
      ]
     },
     "execution_count": 128,
     "metadata": {},
     "output_type": "execute_result"
    }
   ],
   "source": [
    "TaskType.IMAGE_CLASSIFICATION"
   ]
  }
 ],
 "metadata": {
  "kernelspec": {
   "display_name": "Python [conda env:anaconda3]",
   "language": "python",
   "name": "conda-env-anaconda3-py"
  },
  "language_info": {
   "codemirror_mode": {
    "name": "ipython",
    "version": 3
   },
   "file_extension": ".py",
   "mimetype": "text/x-python",
   "name": "python",
   "nbconvert_exporter": "python",
   "pygments_lexer": "ipython3",
   "version": "3.6.5"
  }
 },
 "nbformat": 4,
 "nbformat_minor": 2
}
