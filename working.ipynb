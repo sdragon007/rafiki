{
 "cells": [
  {
   "cell_type": "code",
   "execution_count": 1,
   "metadata": {
    "scrolled": true
   },
   "outputs": [
    {
     "name": "stdout",
     "output_type": "stream",
     "text": [
      "---------------------------------------\n",
      "| Creating Docker swarm for Rafiki... |\n",
      "---------------------------------------\n",
      "Error response from daemon: This node is already part of a swarm. Use \"docker swarm leave\" to leave this swarm and join another one.\n",
      "Failed to init Docker swarm - continuing...\n",
      "Error response from daemon: network with name rafiki already exists\n",
      "Failed to create Docker network for swarm - continuing...\n",
      "------------------------------------\n",
      "| Creating Rafiki's logs folder... |\n",
      "------------------------------------\n",
      "Created Rafiki's logs directory!\n",
      "------------------------------------------------\n",
      "| Pulling images for Rafiki from Docker Hub... |\n",
      "------------------------------------------------\n",
      "Pulling images required by Rafiki from Docker Hub...\n",
      "postgres:10.5 already exists locally\n",
      "redis:5.0-rc already exists locally\n",
      "rafikiai/rafiki_admin:0.0.4 already exists locally\n",
      "rafikiai/rafiki_advisor:0.0.4 already exists locally\n",
      "rafikiai/rafiki_worker:0.0.4 already exists locally\n",
      "rafikiai/rafiki_predictor:0.0.4 already exists locally\n",
      "---------------------------\n",
      "| Starting Rafiki's DB... |\n",
      "---------------------------\n",
      "Waiting for 10s for Rafiki's DB to stablize...\n",
      "Rafiki's DB is running\n",
      "------------------------------\n",
      "| Starting Rafiki's Cache... |\n",
      "------------------------------\n",
      "Waiting for 10s for Rafiki's Cache to stablize...\n",
      "Rafiki's Cache is running\n",
      "------------------------------\n",
      "| Starting Rafiki's Admin... |\n",
      "------------------------------\n",
      "Waiting for 10s for Rafiki's Admin to stablize...\n",
      "Rafiki's Admin is running\n",
      "--------------------------------\n",
      "| Starting Rafiki's Advisor... |\n",
      "--------------------------------\n",
      "Waiting for 10s for Rafiki's Advisor to stablize...\n",
      "Rafiki's Advisor is running\n",
      "To use Rafiki, use Rafiki Client in the Python CLI\n",
      "Refer to Rafiki's docs at https://nginyc.github.io/rafiki2/docs/\n"
     ]
    }
   ],
   "source": [
    "#start rafiki\n",
    "!bash ./scripts/start.sh"
   ]
  },
  {
   "cell_type": "code",
   "execution_count": 30,
   "metadata": {
    "scrolled": true
   },
   "outputs": [
    {
     "name": "stdout",
     "output_type": "stream",
     "text": [
      "---------------------------\n",
      "| Stopping Rafiki's DB... |\n",
      "---------------------------\n",
      "rafiki_db\n",
      "------------------------------\n",
      "| Stopping Rafiki's Cache... |\n",
      "------------------------------\n",
      "rafiki_cache\n",
      "------------------------------\n",
      "| Stopping Rafiki's Admin... |\n",
      "------------------------------\n",
      "rafiki_admin\n",
      "--------------------------------\n",
      "| Stopping Rafiki's Advisor... |\n",
      "--------------------------------\n",
      "rafiki_advisor\n",
      "You'll need to destroy your machine's Docker swarm & Rafiki's logs folder at /home/wubiao/log/rafiki manually\n"
     ]
    }
   ],
   "source": [
    "#stop rafiki\n",
    "!bash ./scripts/stop.sh"
   ]
  },
  {
   "cell_type": "code",
   "execution_count": 70,
   "metadata": {
    "scrolled": true
   },
   "outputs": [
    {
     "name": "stdout",
     "output_type": "stream",
     "text": [
      "export POSTGRES_HOST=rafiki_db\r\n",
      "export POSTGRES_PORT=5432\r\n",
      "export POSTGRES_USER=rafiki\r\n",
      "export POSTGRES_DB=rafiki\r\n",
      "export POSTGRES_PASSWORD=rafiki\r\n",
      "export DOCKER_NETWORK=rafiki\r\n",
      "#export LOGS_FOLDER_PATH=/var/log/rafiki\r\n",
      "export LOGS_FOLDER_PATH=/home/wubiao/log/rafiki\r\n",
      "export ADMIN_HOST=rafiki_admin\r\n",
      "export ADMIN_PORT=8000\r\n",
      "export ADVISOR_HOST=rafiki_advisor\r\n",
      "export ADVISOR_PORT=8001\r\n",
      "export REDIS_HOST=rafiki_cache\r\n",
      "export REDIS_PORT=6379\r\n",
      "export PREDICTOR_PORT=8002\r\n",
      "export RAFIKI_IP_ADDRESS=127.0.0.1\r\n",
      "export RAFIKI_IMAGE_ADMIN=rafikiai/rafiki_admin\r\n",
      "export RAFIKI_IMAGE_ADVISOR=rafikiai/rafiki_advisor\r\n",
      "export RAFIKI_IMAGE_WORKER=rafikiai/rafiki_worker\r\n",
      "export RAFIKI_IMAGE_PREDICTOR=rafikiai/rafiki_predictor\r\n",
      "export IMAGE_POSTGRES=postgres:10.5\r\n",
      "export IMAGE_REDIS=redis:5.0-rc\r\n",
      "export RAFIKI_VERSION=0.0.4\r\n",
      "export PYTHONPATH=$PWD\r\n"
     ]
    }
   ],
   "source": [
    "!cat .env.sh"
   ]
  },
  {
   "cell_type": "code",
   "execution_count": 2,
   "metadata": {},
   "outputs": [
    {
     "data": {
      "text/plain": [
       "{'user_id': '71f6705c-ea09-4d98-98d1-25181dd34ea2', 'user_type': 'SUPERADMIN'}"
      ]
     },
     "execution_count": 2,
     "metadata": {},
     "output_type": "execute_result"
    }
   ],
   "source": [
    "#start client\n",
    "from rafiki.client import Client\n",
    "client = Client(admin_host='localhost', admin_port=8000)\n",
    "client.login(email='superadmin@rafiki', password='rafiki')"
   ]
  },
  {
   "cell_type": "markdown",
   "metadata": {},
   "source": [
    "#add models for default IMAGE_CLASSIFICATION\n",
    "client.create_model(\n",
    "    name='TfSingleHiddenLayer',\n",
    "    task='IMAGE_CLASSIFICATION',\n",
    "    model_file_path='examples/models/image_classification/TfSingleHiddenLayer.py',\n",
    "    model_class='TfSingleHiddenLayer'\n",
    ")\n",
    "\n",
    "client.create_model(\n",
    "    name='SkDt',\n",
    "    task='IMAGE_CLASSIFICATION',\n",
    "    model_file_path='examples/models/image_classification/SkDt.py',\n",
    "    model_class='SkDt'\n",
    ")\n",
    "\n",
    "#check loaded models by task\n",
    "client.get_models_of_task(task='IMAGE_CLASSIFICATION')"
   ]
  },
  {
   "cell_type": "code",
   "execution_count": 3,
   "metadata": {},
   "outputs": [
    {
     "data": {
      "text/plain": [
       "[{'datetime_created': 'Sun, 28 Oct 2018 12:02:19 GMT',\n",
       "  'docker_image': 'rafikiai/rafiki_worker:0.0.4',\n",
       "  'model_class': 'SkDtVector',\n",
       "  'name': 'SkDtVector',\n",
       "  'task': 'FEATURE_VECTOR_CLASSIFICATION',\n",
       "  'user_id': '71f6705c-ea09-4d98-98d1-25181dd34ea2'},\n",
       " {'datetime_created': 'Sun, 28 Oct 2018 12:02:19 GMT',\n",
       "  'docker_image': 'rafikiai/rafiki_worker:0.0.4',\n",
       "  'model_class': 'SkSvmVector',\n",
       "  'name': 'SkSvmVector',\n",
       "  'task': 'FEATURE_VECTOR_CLASSIFICATION',\n",
       "  'user_id': '71f6705c-ea09-4d98-98d1-25181dd34ea2'},\n",
       " {'datetime_created': 'Sun, 28 Oct 2018 12:02:19 GMT',\n",
       "  'docker_image': 'rafikiai/rafiki_worker:0.0.4',\n",
       "  'model_class': 'TfSingleHiddenLayerVector',\n",
       "  'name': 'TfSingleHiddenLayerVector',\n",
       "  'task': 'FEATURE_VECTOR_CLASSIFICATION',\n",
       "  'user_id': '71f6705c-ea09-4d98-98d1-25181dd34ea2'}]"
      ]
     },
     "execution_count": 3,
     "metadata": {},
     "output_type": "execute_result"
    }
   ],
   "source": [
    "#add model for FEATURE_VECTOR_CLASSIFICATION\n",
    "client.create_model(\n",
    "    name='SkDtVector',\n",
    "    task='FEATURE_VECTOR_CLASSIFICATION',\n",
    "    model_file_path='examples/models/feature_vector_classification/SkDt.py',\n",
    "    model_class='SkDtVector'\n",
    ")\n",
    "\n",
    "client.create_model(\n",
    "    name='SkSvmVector',\n",
    "    task='FEATURE_VECTOR_CLASSIFICATION',\n",
    "    model_file_path='examples/models/feature_vector_classification/SkSvm.py',\n",
    "    model_class='SkSvmVector'\n",
    ")\n",
    "\n",
    "client.create_model(\n",
    "    name='TfSingleHiddenLayerVector',\n",
    "    task='FEATURE_VECTOR_CLASSIFICATION',\n",
    "    model_file_path='examples/models/feature_vector_classification/TfSingleHiddenLayer.py',\n",
    "    model_class='TfSingleHiddenLayerVector'\n",
    ")\n",
    "\n",
    "\n",
    "#check loaded models by task\n",
    "client.get_models_of_task(task='FEATURE_VECTOR_CLASSIFICATION')"
   ]
  },
  {
   "cell_type": "markdown",
   "metadata": {},
   "source": [
    "uri = \"https://github.com/sdragon007/sea_dataset/blob/master/sea_train.zip?raw=true\""
   ]
  },
  {
   "cell_type": "code",
   "execution_count": 4,
   "metadata": {
    "scrolled": true
   },
   "outputs": [
    {
     "data": {
      "text/plain": [
       "{'app': 'concept_drift',\n",
       " 'app_version': 1,\n",
       " 'id': 'd57162b0-cd2e-4258-82b9-e79e88bfff2e'}"
      ]
     },
     "execution_count": 4,
     "metadata": {},
     "output_type": "execute_result"
    }
   ],
   "source": [
    "#create a training job\n",
    "client.create_train_job(\n",
    "    app='concept_drift',\n",
    "    task='FEATURE_VECTOR_CLASSIFICATION',\n",
    "    train_dataset_uri='https://github.com/sdragon007/sea_dataset/blob/master/sea_train.zip?raw=true',\n",
    "    test_dataset_uri='https://github.com/sdragon007/sea_dataset/blob/master/sea_test.zip?raw=true',\n",
    "    budget_type='MODEL_TRIAL_COUNT',\n",
    "    budget_amount=2\n",
    ")"
   ]
  },
  {
   "cell_type": "code",
   "execution_count": 7,
   "metadata": {
    "scrolled": false
   },
   "outputs": [
    {
     "data": {
      "text/plain": [
       "{'app': 'concept_drift',\n",
       " 'app_version': 1,\n",
       " 'budget_amount': 2,\n",
       " 'budget_type': 'MODEL_TRIAL_COUNT',\n",
       " 'datetime_completed': None,\n",
       " 'datetime_started': 'Sun, 28 Oct 2018 12:02:24 GMT',\n",
       " 'id': 'd57162b0-cd2e-4258-82b9-e79e88bfff2e',\n",
       " 'status': 'RUNNING',\n",
       " 'task': 'FEATURE_VECTOR_CLASSIFICATION',\n",
       " 'test_dataset_uri': 'https://github.com/sdragon007/sea_dataset/blob/master/sea_test.zip?raw=true',\n",
       " 'train_dataset_uri': 'https://github.com/sdragon007/sea_dataset/blob/master/sea_train.zip?raw=true',\n",
       " 'workers': [{'datetime_started': 'Sun, 28 Oct 2018 12:02:24 GMT',\n",
       "   'datetime_stopped': None,\n",
       "   'model_name': 'SkDtVector',\n",
       "   'replicas': 2,\n",
       "   'service_id': 'bf1feac8-a53b-409c-8550-2a258be56620',\n",
       "   'status': 'RUNNING'},\n",
       "  {'datetime_started': 'Sun, 28 Oct 2018 12:02:24 GMT',\n",
       "   'datetime_stopped': None,\n",
       "   'model_name': 'SkSvmVector',\n",
       "   'replicas': 2,\n",
       "   'service_id': '58e10856-afe3-424f-8b15-01fc8af84d5a',\n",
       "   'status': 'RUNNING'},\n",
       "  {'datetime_started': 'Sun, 28 Oct 2018 12:02:24 GMT',\n",
       "   'datetime_stopped': None,\n",
       "   'model_name': 'TfSingleHiddenLayerVector',\n",
       "   'replicas': 2,\n",
       "   'service_id': '1f9fc075-8a70-4c1c-a5a8-9197eedbb008',\n",
       "   'status': 'RUNNING'}]}"
      ]
     },
     "execution_count": 7,
     "metadata": {},
     "output_type": "execute_result"
    }
   ],
   "source": [
    "#get train job status\n",
    "client.get_train_job(app='concept_drift')"
   ]
  },
  {
   "cell_type": "code",
   "execution_count": 8,
   "metadata": {},
   "outputs": [
    {
     "data": {
      "text/plain": [
       "[]"
      ]
     },
     "execution_count": 8,
     "metadata": {},
     "output_type": "execute_result"
    }
   ],
   "source": [
    "#get job metrics\n",
    "client.get_best_trials_of_train_job(app='concept_drift')"
   ]
  },
  {
   "cell_type": "code",
   "execution_count": null,
   "metadata": {},
   "outputs": [],
   "source": [
    "#startinference job\n",
    "client.create_inference_job(app='concept_drift')"
   ]
  },
  {
   "cell_type": "code",
   "execution_count": null,
   "metadata": {},
   "outputs": [],
   "source": [
    "#stop inference job\n",
    "client.stop_inference_job(app='concept_drift')"
   ]
  },
  {
   "cell_type": "code",
   "execution_count": null,
   "metadata": {},
   "outputs": [],
   "source": []
  }
 ],
 "metadata": {
  "kernelspec": {
   "display_name": "Python [conda env:anaconda3]",
   "language": "python",
   "name": "conda-env-anaconda3-py"
  },
  "language_info": {
   "codemirror_mode": {
    "name": "ipython",
    "version": 3
   },
   "file_extension": ".py",
   "mimetype": "text/x-python",
   "name": "python",
   "nbconvert_exporter": "python",
   "pygments_lexer": "ipython3",
   "version": "3.6.5"
  }
 },
 "nbformat": 4,
 "nbformat_minor": 2
}
