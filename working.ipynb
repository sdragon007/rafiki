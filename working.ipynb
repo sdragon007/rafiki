{
 "cells": [
  {
   "cell_type": "code",
   "execution_count": null,
   "metadata": {},
   "outputs": [],
   "source": [
    "#build and push docker images for latest script change\n",
    "!source .env.sh\n",
    "!bash scripts/build_images.sh\n",
    "#!bash scripts/push_images.sh"
   ]
  },
  {
   "cell_type": "code",
   "execution_count": 1,
   "metadata": {
    "scrolled": true
   },
   "outputs": [
    {
     "name": "stdout",
     "output_type": "stream",
     "text": [
      "---------------------------------------\n",
      "| Creating Docker swarm for Rafiki... |\n",
      "---------------------------------------\n",
      "Swarm initialized: current node (xtpj1f9r4qju8nig91r01z99x) is now a manager.\n",
      "\n",
      "To add a worker to this swarm, run the following command:\n",
      "\n",
      "    docker swarm join --token SWMTKN-1-3iauyez8ohulb9z17jhi3fycs7p93v85nzbb4bpia62bvz5krk-0izj0j6eiut5owus1ab58cup2 127.0.0.1:2377\n",
      "\n",
      "To add a manager to this swarm, run 'docker swarm join-token manager' and follow the instructions.\n",
      "\n",
      "37cme00wt6irg7hpkeuhpclsg\n",
      "------------------------------------\n",
      "| Creating Rafiki's logs folder... |\n",
      "------------------------------------\n",
      "Created Rafiki's logs directory!\n",
      "------------------------------------------------\n",
      "| Pulling images for Rafiki from Docker Hub... |\n",
      "------------------------------------------------\n",
      "Pulling images required by Rafiki from Docker Hub...\n",
      "postgres:10.5 already exists locally\n",
      "redis:5.0-rc already exists locally\n",
      "rafikiai/rafiki_admin:0.0.5 already exists locally\n",
      "rafikiai/rafiki_advisor:0.0.5 already exists locally\n",
      "rafikiai/rafiki_worker:0.0.5 already exists locally\n",
      "rafikiai/rafiki_predictor:0.0.5 already exists locally\n",
      "---------------------------\n",
      "| Starting Rafiki's DB... |\n",
      "---------------------------\n",
      "Waiting for 10s for Rafiki's DB to stablize...\n",
      "Rafiki's DB is running\n",
      "------------------------------\n",
      "| Starting Rafiki's Cache... |\n",
      "------------------------------\n",
      "Waiting for 10s for Rafiki's Cache to stablize...\n",
      "Rafiki's Cache is running\n",
      "------------------------------\n",
      "| Starting Rafiki's Admin... |\n",
      "------------------------------\n",
      "Waiting for 10s for Rafiki's Admin to stablize...\n",
      "Rafiki's Admin is running\n",
      "--------------------------------\n",
      "| Starting Rafiki's Advisor... |\n",
      "--------------------------------\n",
      "Waiting for 10s for Rafiki's Advisor to stablize...\n",
      "Rafiki's Advisor is running\n",
      "To use Rafiki, use Rafiki Client in the Python CLI\n",
      "Refer to Rafiki's docs at https://nginyc.github.io/rafiki2/docs/\n"
     ]
    }
   ],
   "source": [
    "#start rafiki\n",
    "!bash ./scripts/start.sh"
   ]
  },
  {
   "cell_type": "code",
   "execution_count": null,
   "metadata": {
    "scrolled": true
   },
   "outputs": [],
   "source": [
    "#stop rafiki\n",
    "!bash ./scripts/stop.sh"
   ]
  },
  {
   "cell_type": "code",
   "execution_count": 2,
   "metadata": {},
   "outputs": [
    {
     "data": {
      "text/plain": [
       "{'user_id': 'f331b6a6-8be0-4b96-8ccd-4fe8da73abab', 'user_type': 'SUPERADMIN'}"
      ]
     },
     "execution_count": 2,
     "metadata": {},
     "output_type": "execute_result"
    }
   ],
   "source": [
    "#start client\n",
    "from rafiki.client import Client\n",
    "client = Client(admin_host='localhost', admin_port=8000)\n",
    "client.login(email='superadmin@rafiki', password='rafiki')"
   ]
  },
  {
   "cell_type": "code",
   "execution_count": 3,
   "metadata": {
    "scrolled": true
   },
   "outputs": [
    {
     "data": {
      "text/plain": [
       "[{'datetime_created': 'Mon, 29 Oct 2018 04:51:45 GMT',\n",
       "  'docker_image': 'rafikiai/rafiki_worker:0.0.5',\n",
       "  'model_class': 'SkRfVector',\n",
       "  'name': 'SkRfVector',\n",
       "  'task': 'FEATURE_VECTOR_CLASSIFICATION',\n",
       "  'user_id': 'f331b6a6-8be0-4b96-8ccd-4fe8da73abab'},\n",
       " {'datetime_created': 'Mon, 29 Oct 2018 04:51:45 GMT',\n",
       "  'docker_image': 'rafikiai/rafiki_worker:0.0.5',\n",
       "  'model_class': 'SkLogVector',\n",
       "  'name': 'SkLogVector',\n",
       "  'task': 'FEATURE_VECTOR_CLASSIFICATION',\n",
       "  'user_id': 'f331b6a6-8be0-4b96-8ccd-4fe8da73abab'}]"
      ]
     },
     "execution_count": 3,
     "metadata": {},
     "output_type": "execute_result"
    }
   ],
   "source": [
    "#add model for FEATURE_VECTOR_CLASSIFICATION\n",
    "'''\n",
    "client.create_model(\n",
    "    name='SkDtVector',\n",
    "    task='FEATURE_VECTOR_CLASSIFICATION',\n",
    "    model_file_path='examples/models/feature_vector_classification/SkDt.py',\n",
    "    model_class='SkDtVector'\n",
    ")\n",
    "\n",
    "\n",
    "client.create_model(\n",
    "    name='TfSingleHiddenLayerVector',\n",
    "    task='FEATURE_VECTOR_CLASSIFICATION',\n",
    "    model_file_path='examples/models/feature_vector_classification/TfSingleHiddenLayer.py',\n",
    "    model_class='TfSingleHiddenLayerVector'\n",
    ")\n",
    "'''\n",
    "\n",
    "client.create_model(\n",
    "    name='SkSvmVector',\n",
    "    task='FEATURE_VECTOR_CLASSIFICATION',\n",
    "    model_file_path='examples/models/feature_vector_classification/SkSvm.py',\n",
    "    model_class='SkSvmVector'\n",
    ")\n",
    "\n",
    "client.create_model(\n",
    "    name='SkRfVector',\n",
    "    task='FEATURE_VECTOR_CLASSIFICATION',\n",
    "    model_file_path='examples/models/feature_vector_classification/SkRf.py',\n",
    "    model_class='SkRfVector'\n",
    ")\n",
    "\n",
    "client.create_model(\n",
    "    name='SkLogVector',\n",
    "    task='FEATURE_VECTOR_CLASSIFICATION',\n",
    "    model_file_path='examples/models/feature_vector_classification/SkLog.py',\n",
    "    model_class='SkLogVector'\n",
    ")\n",
    "\n",
    "#check loaded models by task\n",
    "client.get_models_of_task(task='FEATURE_VECTOR_CLASSIFICATION')"
   ]
  },
  {
   "cell_type": "code",
   "execution_count": 12,
   "metadata": {
    "scrolled": true
   },
   "outputs": [
    {
     "data": {
      "text/plain": [
       "{'app': 'concept_drift',\n",
       " 'app_version': 2,\n",
       " 'id': 'dc961cb6-d4e7-4035-be32-9f46093d43ab'}"
      ]
     },
     "execution_count": 12,
     "metadata": {},
     "output_type": "execute_result"
    }
   ],
   "source": [
    "#create a training job\n",
    "client.create_train_job(\n",
    "    app='concept_drift',\n",
    "    task='FEATURE_VECTOR_CLASSIFICATION',\n",
    "    train_dataset_uri='https://github.com/sdragon007/sea_dataset/blob/master/sea_train.zip?raw=true',\n",
    "    test_dataset_uri='https://github.com/sdragon007/sea_dataset/blob/master/sea_test.zip?raw=true',\n",
    "    budget_type='MODEL_TRIAL_COUNT',\n",
    "    budget_amount=2\n",
    ")"
   ]
  },
  {
   "cell_type": "code",
   "execution_count": 15,
   "metadata": {},
   "outputs": [
    {
     "data": {
      "text/plain": [
       "{'app': 'concept_drift',\n",
       " 'app_version': 2,\n",
       " 'budget_amount': 2,\n",
       " 'budget_type': 'MODEL_TRIAL_COUNT',\n",
       " 'datetime_completed': 'Mon, 29 Oct 2018 04:56:07 GMT',\n",
       " 'datetime_started': 'Mon, 29 Oct 2018 04:55:54 GMT',\n",
       " 'id': 'dc961cb6-d4e7-4035-be32-9f46093d43ab',\n",
       " 'status': 'COMPLETED',\n",
       " 'task': 'FEATURE_VECTOR_CLASSIFICATION',\n",
       " 'test_dataset_uri': 'https://github.com/sdragon007/sea_dataset/blob/master/sea_test.zip?raw=true',\n",
       " 'train_dataset_uri': 'https://github.com/sdragon007/sea_dataset/blob/master/sea_train.zip?raw=true',\n",
       " 'workers': [{'datetime_started': 'Mon, 29 Oct 2018 04:55:54 GMT',\n",
       "   'datetime_stopped': 'Mon, 29 Oct 2018 04:56:07 GMT',\n",
       "   'model_name': 'SkRfVector',\n",
       "   'replicas': 2,\n",
       "   'service_id': 'da995c58-84e8-40c3-9332-e33778b7b5a2',\n",
       "   'status': 'STOPPED'},\n",
       "  {'datetime_started': 'Mon, 29 Oct 2018 04:55:54 GMT',\n",
       "   'datetime_stopped': 'Mon, 29 Oct 2018 04:56:04 GMT',\n",
       "   'model_name': 'SkLogVector',\n",
       "   'replicas': 2,\n",
       "   'service_id': '06eff8f1-cdf4-470f-bed0-e3365f93d036',\n",
       "   'status': 'STOPPED'},\n",
       "  {'datetime_started': 'Mon, 29 Oct 2018 04:55:54 GMT',\n",
       "   'datetime_stopped': 'Mon, 29 Oct 2018 04:56:04 GMT',\n",
       "   'model_name': 'SkSvmVector',\n",
       "   'replicas': 2,\n",
       "   'service_id': '6962988e-8fef-451e-8e30-4160455a7aeb',\n",
       "   'status': 'STOPPED'}]}"
      ]
     },
     "execution_count": 15,
     "metadata": {},
     "output_type": "execute_result"
    }
   ],
   "source": [
    "#get train job status\n",
    "client.get_train_job(app='concept_drift')"
   ]
  },
  {
   "cell_type": "code",
   "execution_count": 14,
   "metadata": {},
   "outputs": [
    {
     "data": {
      "text/plain": [
       "[{'datetime_started': 'Mon, 29 Oct 2018 04:56:02 GMT',\n",
       "  'datetime_stopped': 'Mon, 29 Oct 2018 04:56:05 GMT',\n",
       "  'id': '67822bf7-4915-4861-8b6d-11edeb8751b2',\n",
       "  'knobs': {'C': 0.2921613107220019,\n",
       "   'max_iter': 127,\n",
       "   'penalty': 'l2',\n",
       "   'tol': 2.2290456039461248e-05},\n",
       "  'model_name': 'SkLogVector',\n",
       "  'score': 0.8955},\n",
       " {'datetime_started': 'Mon, 29 Oct 2018 04:55:59 GMT',\n",
       "  'datetime_stopped': 'Mon, 29 Oct 2018 04:56:02 GMT',\n",
       "  'id': 'f876cf41-8922-4a0f-af29-e52001e73213',\n",
       "  'knobs': {'C': 30.907091604492077,\n",
       "   'max_iter': 116,\n",
       "   'penalty': 'l2',\n",
       "   'tol': 0.0009656477147308054},\n",
       "  'model_name': 'SkLogVector',\n",
       "  'score': 0.8935},\n",
       " {'datetime_started': 'Mon, 29 Oct 2018 04:56:01 GMT',\n",
       "  'datetime_stopped': 'Mon, 29 Oct 2018 04:56:04 GMT',\n",
       "  'id': '6b8f677f-a90e-4110-8de2-02ca3f4db3ef',\n",
       "  'knobs': {'C': 0.12222884594099637,\n",
       "   'max_iter': 17,\n",
       "   'penalty': 'l2',\n",
       "   'tol': 6.379075048113337e-05},\n",
       "  'model_name': 'SkLogVector',\n",
       "  'score': 0.893}]"
      ]
     },
     "execution_count": 14,
     "metadata": {},
     "output_type": "execute_result"
    }
   ],
   "source": [
    "#get job metrics\n",
    "client.get_best_trials_of_train_job(app='concept_drift')"
   ]
  },
  {
   "cell_type": "code",
   "execution_count": null,
   "metadata": {},
   "outputs": [],
   "source": [
    "client.stop_train_job(app = 'concept_drift')"
   ]
  },
  {
   "cell_type": "code",
   "execution_count": null,
   "metadata": {},
   "outputs": [],
   "source": [
    "#startinference job\n",
    "client.create_inference_job(app='concept_drift')"
   ]
  },
  {
   "cell_type": "code",
   "execution_count": null,
   "metadata": {},
   "outputs": [],
   "source": [
    "#stop inference job\n",
    "client.stop_inference_job(app='concept_drift')"
   ]
  }
 ],
 "metadata": {
  "kernelspec": {
   "display_name": "Python [conda env:anaconda3]",
   "language": "python",
   "name": "conda-env-anaconda3-py"
  },
  "language_info": {
   "codemirror_mode": {
    "name": "ipython",
    "version": 3
   },
   "file_extension": ".py",
   "mimetype": "text/x-python",
   "name": "python",
   "nbconvert_exporter": "python",
   "pygments_lexer": "ipython3",
   "version": "3.6.5"
  }
 },
 "nbformat": 4,
 "nbformat_minor": 2
}
